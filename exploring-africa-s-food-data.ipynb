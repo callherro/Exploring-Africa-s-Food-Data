{
 "cells": [
  {
   "cell_type": "code",
   "execution_count": 1,
   "id": "cf678658",
   "metadata": {
    "_cell_guid": "b1076dfc-b9ad-4769-8c92-a6c4dae69d19",
    "_uuid": "8f2839f25d086af736a60e9eeb907d3b93b6e0e5",
    "execution": {
     "iopub.execute_input": "2022-08-02T02:57:23.331831Z",
     "iopub.status.busy": "2022-08-02T02:57:23.331376Z",
     "iopub.status.idle": "2022-08-02T02:57:23.352793Z",
     "shell.execute_reply": "2022-08-02T02:57:23.351606Z"
    },
    "papermill": {
     "duration": 0.031591,
     "end_time": "2022-08-02T02:57:23.355799",
     "exception": false,
     "start_time": "2022-08-02T02:57:23.324208",
     "status": "completed"
    },
    "tags": []
   },
   "outputs": [
    {
     "name": "stdout",
     "output_type": "stream",
     "text": [
      "/kaggle/input/foodbalancesheetsafrica/FoodBalanceSheets_E_Africa_NOFLAG.csv\n"
     ]
    }
   ],
   "source": [
    "# This Python 3 environment comes with many helpful analytics libraries installed\n",
    "# It is defined by the kaggle/python Docker image: https://github.com/kaggle/docker-python\n",
    "# For example, here's several helpful packages to load\n",
    "\n",
    "import numpy as np # linear algebra\n",
    "import pandas as pd # data processing, CSV file I/O (e.g. pd.read_csv)\n",
    "\n",
    "# Input data files are available in the read-only \"../input/\" directory\n",
    "# For example, running this (by clicking run or pressing Shift+Enter) will list all files under the input directory\n",
    "\n",
    "import os\n",
    "for dirname, _, filenames in os.walk('/kaggle/input'):\n",
    "    for filename in filenames:\n",
    "        print(os.path.join(dirname, filename))\n",
    "\n",
    "# You can write up to 20GB to the current directory (/kaggle/working/) that gets preserved as output when you create a version using \"Save & Run All\" \n",
    "# You can also write temporary files to /kaggle/temp/, but they won't be saved outside of the current session"
   ]
  },
  {
   "cell_type": "markdown",
   "id": "cb277123",
   "metadata": {
    "papermill": {
     "duration": 0.004035,
     "end_time": "2022-08-02T02:57:23.364790",
     "exception": false,
     "start_time": "2022-08-02T02:57:23.360755",
     "status": "completed"
    },
    "tags": []
   },
   "source": [
    "**Exploring**"
   ]
  },
  {
   "cell_type": "code",
   "execution_count": 2,
   "id": "7e0a8a2d",
   "metadata": {
    "execution": {
     "iopub.execute_input": "2022-08-02T02:57:23.375250Z",
     "iopub.status.busy": "2022-08-02T02:57:23.374522Z",
     "iopub.status.idle": "2022-08-02T02:57:23.593683Z",
     "shell.execute_reply": "2022-08-02T02:57:23.592576Z"
    },
    "papermill": {
     "duration": 0.2278,
     "end_time": "2022-08-02T02:57:23.596712",
     "exception": false,
     "start_time": "2022-08-02T02:57:23.368912",
     "status": "completed"
    },
    "tags": []
   },
   "outputs": [
    {
     "data": {
      "text/html": [
       "<div>\n",
       "<style scoped>\n",
       "    .dataframe tbody tr th:only-of-type {\n",
       "        vertical-align: middle;\n",
       "    }\n",
       "\n",
       "    .dataframe tbody tr th {\n",
       "        vertical-align: top;\n",
       "    }\n",
       "\n",
       "    .dataframe thead th {\n",
       "        text-align: right;\n",
       "    }\n",
       "</style>\n",
       "<table border=\"1\" class=\"dataframe\">\n",
       "  <thead>\n",
       "    <tr style=\"text-align: right;\">\n",
       "      <th></th>\n",
       "      <th>Area Code</th>\n",
       "      <th>Area</th>\n",
       "      <th>Item Code</th>\n",
       "      <th>Item</th>\n",
       "      <th>Element Code</th>\n",
       "      <th>Element</th>\n",
       "      <th>Unit</th>\n",
       "      <th>Y2014</th>\n",
       "      <th>Y2015</th>\n",
       "      <th>Y2016</th>\n",
       "      <th>Y2017</th>\n",
       "      <th>Y2018</th>\n",
       "    </tr>\n",
       "  </thead>\n",
       "  <tbody>\n",
       "    <tr>\n",
       "      <th>0</th>\n",
       "      <td>4</td>\n",
       "      <td>Algeria</td>\n",
       "      <td>2501</td>\n",
       "      <td>Population</td>\n",
       "      <td>511</td>\n",
       "      <td>Total Population - Both sexes</td>\n",
       "      <td>1000 persons</td>\n",
       "      <td>38924.00</td>\n",
       "      <td>39728.00</td>\n",
       "      <td>40551.00</td>\n",
       "      <td>41389.00</td>\n",
       "      <td>42228.00</td>\n",
       "    </tr>\n",
       "    <tr>\n",
       "      <th>1</th>\n",
       "      <td>4</td>\n",
       "      <td>Algeria</td>\n",
       "      <td>2501</td>\n",
       "      <td>Population</td>\n",
       "      <td>5301</td>\n",
       "      <td>Domestic supply quantity</td>\n",
       "      <td>1000 tonnes</td>\n",
       "      <td>0.00</td>\n",
       "      <td>0.00</td>\n",
       "      <td>0.00</td>\n",
       "      <td>0.00</td>\n",
       "      <td>0.00</td>\n",
       "    </tr>\n",
       "    <tr>\n",
       "      <th>2</th>\n",
       "      <td>4</td>\n",
       "      <td>Algeria</td>\n",
       "      <td>2901</td>\n",
       "      <td>Grand Total</td>\n",
       "      <td>664</td>\n",
       "      <td>Food supply (kcal/capita/day)</td>\n",
       "      <td>kcal/capita/day</td>\n",
       "      <td>3377.00</td>\n",
       "      <td>3379.00</td>\n",
       "      <td>3372.00</td>\n",
       "      <td>3341.00</td>\n",
       "      <td>3322.00</td>\n",
       "    </tr>\n",
       "    <tr>\n",
       "      <th>3</th>\n",
       "      <td>4</td>\n",
       "      <td>Algeria</td>\n",
       "      <td>2901</td>\n",
       "      <td>Grand Total</td>\n",
       "      <td>674</td>\n",
       "      <td>Protein supply quantity (g/capita/day)</td>\n",
       "      <td>g/capita/day</td>\n",
       "      <td>94.90</td>\n",
       "      <td>94.35</td>\n",
       "      <td>94.72</td>\n",
       "      <td>92.82</td>\n",
       "      <td>91.83</td>\n",
       "    </tr>\n",
       "    <tr>\n",
       "      <th>4</th>\n",
       "      <td>4</td>\n",
       "      <td>Algeria</td>\n",
       "      <td>2901</td>\n",
       "      <td>Grand Total</td>\n",
       "      <td>684</td>\n",
       "      <td>Fat supply quantity (g/capita/day)</td>\n",
       "      <td>g/capita/day</td>\n",
       "      <td>80.06</td>\n",
       "      <td>79.36</td>\n",
       "      <td>77.40</td>\n",
       "      <td>80.19</td>\n",
       "      <td>77.28</td>\n",
       "    </tr>\n",
       "    <tr>\n",
       "      <th>5</th>\n",
       "      <td>4</td>\n",
       "      <td>Algeria</td>\n",
       "      <td>2903</td>\n",
       "      <td>Vegetal Products</td>\n",
       "      <td>664</td>\n",
       "      <td>Food supply (kcal/capita/day)</td>\n",
       "      <td>kcal/capita/day</td>\n",
       "      <td>2932.00</td>\n",
       "      <td>2958.00</td>\n",
       "      <td>2941.00</td>\n",
       "      <td>2921.00</td>\n",
       "      <td>2932.00</td>\n",
       "    </tr>\n",
       "    <tr>\n",
       "      <th>6</th>\n",
       "      <td>4</td>\n",
       "      <td>Algeria</td>\n",
       "      <td>2903</td>\n",
       "      <td>Vegetal Products</td>\n",
       "      <td>674</td>\n",
       "      <td>Protein supply quantity (g/capita/day)</td>\n",
       "      <td>g/capita/day</td>\n",
       "      <td>67.14</td>\n",
       "      <td>67.38</td>\n",
       "      <td>67.37</td>\n",
       "      <td>66.11</td>\n",
       "      <td>67.10</td>\n",
       "    </tr>\n",
       "    <tr>\n",
       "      <th>7</th>\n",
       "      <td>4</td>\n",
       "      <td>Algeria</td>\n",
       "      <td>2903</td>\n",
       "      <td>Vegetal Products</td>\n",
       "      <td>684</td>\n",
       "      <td>Fat supply quantity (g/capita/day)</td>\n",
       "      <td>g/capita/day</td>\n",
       "      <td>53.84</td>\n",
       "      <td>54.72</td>\n",
       "      <td>52.04</td>\n",
       "      <td>55.59</td>\n",
       "      <td>54.57</td>\n",
       "    </tr>\n",
       "    <tr>\n",
       "      <th>8</th>\n",
       "      <td>4</td>\n",
       "      <td>Algeria</td>\n",
       "      <td>2941</td>\n",
       "      <td>Animal Products</td>\n",
       "      <td>664</td>\n",
       "      <td>Food supply (kcal/capita/day)</td>\n",
       "      <td>kcal/capita/day</td>\n",
       "      <td>444.00</td>\n",
       "      <td>421.00</td>\n",
       "      <td>431.00</td>\n",
       "      <td>421.00</td>\n",
       "      <td>390.00</td>\n",
       "    </tr>\n",
       "    <tr>\n",
       "      <th>9</th>\n",
       "      <td>4</td>\n",
       "      <td>Algeria</td>\n",
       "      <td>2941</td>\n",
       "      <td>Animal Products</td>\n",
       "      <td>674</td>\n",
       "      <td>Protein supply quantity (g/capita/day)</td>\n",
       "      <td>g/capita/day</td>\n",
       "      <td>27.76</td>\n",
       "      <td>26.97</td>\n",
       "      <td>27.35</td>\n",
       "      <td>26.71</td>\n",
       "      <td>24.73</td>\n",
       "    </tr>\n",
       "  </tbody>\n",
       "</table>\n",
       "</div>"
      ],
      "text/plain": [
       "   Area Code     Area  Item Code              Item  Element Code  \\\n",
       "0          4  Algeria       2501        Population           511   \n",
       "1          4  Algeria       2501        Population          5301   \n",
       "2          4  Algeria       2901       Grand Total           664   \n",
       "3          4  Algeria       2901       Grand Total           674   \n",
       "4          4  Algeria       2901       Grand Total           684   \n",
       "5          4  Algeria       2903  Vegetal Products           664   \n",
       "6          4  Algeria       2903  Vegetal Products           674   \n",
       "7          4  Algeria       2903  Vegetal Products           684   \n",
       "8          4  Algeria       2941   Animal Products           664   \n",
       "9          4  Algeria       2941   Animal Products           674   \n",
       "\n",
       "                                  Element             Unit     Y2014  \\\n",
       "0           Total Population - Both sexes     1000 persons  38924.00   \n",
       "1                Domestic supply quantity      1000 tonnes      0.00   \n",
       "2           Food supply (kcal/capita/day)  kcal/capita/day   3377.00   \n",
       "3  Protein supply quantity (g/capita/day)     g/capita/day     94.90   \n",
       "4      Fat supply quantity (g/capita/day)     g/capita/day     80.06   \n",
       "5           Food supply (kcal/capita/day)  kcal/capita/day   2932.00   \n",
       "6  Protein supply quantity (g/capita/day)     g/capita/day     67.14   \n",
       "7      Fat supply quantity (g/capita/day)     g/capita/day     53.84   \n",
       "8           Food supply (kcal/capita/day)  kcal/capita/day    444.00   \n",
       "9  Protein supply quantity (g/capita/day)     g/capita/day     27.76   \n",
       "\n",
       "      Y2015     Y2016     Y2017     Y2018  \n",
       "0  39728.00  40551.00  41389.00  42228.00  \n",
       "1      0.00      0.00      0.00      0.00  \n",
       "2   3379.00   3372.00   3341.00   3322.00  \n",
       "3     94.35     94.72     92.82     91.83  \n",
       "4     79.36     77.40     80.19     77.28  \n",
       "5   2958.00   2941.00   2921.00   2932.00  \n",
       "6     67.38     67.37     66.11     67.10  \n",
       "7     54.72     52.04     55.59     54.57  \n",
       "8    421.00    431.00    421.00    390.00  \n",
       "9     26.97     27.35     26.71     24.73  "
      ]
     },
     "execution_count": 2,
     "metadata": {},
     "output_type": "execute_result"
    }
   ],
   "source": [
    "food = pd.read_csv('../input/foodbalancesheetsafrica/FoodBalanceSheets_E_Africa_NOFLAG.csv', encoding = 'latin-1')\n",
    "food.head(10)"
   ]
  },
  {
   "cell_type": "code",
   "execution_count": 3,
   "id": "3fe30d0c",
   "metadata": {
    "execution": {
     "iopub.execute_input": "2022-08-02T02:57:23.611231Z",
     "iopub.status.busy": "2022-08-02T02:57:23.610252Z",
     "iopub.status.idle": "2022-08-02T02:57:23.620398Z",
     "shell.execute_reply": "2022-08-02T02:57:23.619295Z"
    },
    "papermill": {
     "duration": 0.019192,
     "end_time": "2022-08-02T02:57:23.623153",
     "exception": false,
     "start_time": "2022-08-02T02:57:23.603961",
     "status": "completed"
    },
    "tags": []
   },
   "outputs": [
    {
     "data": {
      "text/plain": [
       "Index(['Area Code', 'Area', 'Item Code', 'Item', 'Element Code', 'Element',\n",
       "       'Unit', 'Y2014', 'Y2015', 'Y2016', 'Y2017', 'Y2018'],\n",
       "      dtype='object')"
      ]
     },
     "execution_count": 3,
     "metadata": {},
     "output_type": "execute_result"
    }
   ],
   "source": [
    "food.columns"
   ]
  },
  {
   "cell_type": "code",
   "execution_count": 4,
   "id": "7c46bccf",
   "metadata": {
    "execution": {
     "iopub.execute_input": "2022-08-02T02:57:23.635985Z",
     "iopub.status.busy": "2022-08-02T02:57:23.634927Z",
     "iopub.status.idle": "2022-08-02T02:57:23.704764Z",
     "shell.execute_reply": "2022-08-02T02:57:23.703724Z"
    },
    "papermill": {
     "duration": 0.078396,
     "end_time": "2022-08-02T02:57:23.707333",
     "exception": false,
     "start_time": "2022-08-02T02:57:23.628937",
     "status": "completed"
    },
    "tags": []
   },
   "outputs": [
    {
     "data": {
      "text/html": [
       "<div>\n",
       "<style scoped>\n",
       "    .dataframe tbody tr th:only-of-type {\n",
       "        vertical-align: middle;\n",
       "    }\n",
       "\n",
       "    .dataframe tbody tr th {\n",
       "        vertical-align: top;\n",
       "    }\n",
       "\n",
       "    .dataframe thead th {\n",
       "        text-align: right;\n",
       "    }\n",
       "</style>\n",
       "<table border=\"1\" class=\"dataframe\">\n",
       "  <thead>\n",
       "    <tr style=\"text-align: right;\">\n",
       "      <th></th>\n",
       "      <th>Area Code</th>\n",
       "      <th>Item Code</th>\n",
       "      <th>Element Code</th>\n",
       "      <th>Y2014</th>\n",
       "      <th>Y2015</th>\n",
       "      <th>Y2016</th>\n",
       "      <th>Y2017</th>\n",
       "      <th>Y2018</th>\n",
       "    </tr>\n",
       "  </thead>\n",
       "  <tbody>\n",
       "    <tr>\n",
       "      <th>count</th>\n",
       "      <td>60943.000000</td>\n",
       "      <td>60943.000000</td>\n",
       "      <td>60943.000000</td>\n",
       "      <td>59354.000000</td>\n",
       "      <td>59395.000000</td>\n",
       "      <td>59408.000000</td>\n",
       "      <td>59437.000000</td>\n",
       "      <td>59507.000000</td>\n",
       "    </tr>\n",
       "    <tr>\n",
       "      <th>mean</th>\n",
       "      <td>134.265576</td>\n",
       "      <td>2687.176706</td>\n",
       "      <td>3814.856456</td>\n",
       "      <td>134.196282</td>\n",
       "      <td>135.235966</td>\n",
       "      <td>136.555222</td>\n",
       "      <td>140.917765</td>\n",
       "      <td>143.758381</td>\n",
       "    </tr>\n",
       "    <tr>\n",
       "      <th>std</th>\n",
       "      <td>72.605709</td>\n",
       "      <td>146.055739</td>\n",
       "      <td>2212.007033</td>\n",
       "      <td>1567.663696</td>\n",
       "      <td>1603.403984</td>\n",
       "      <td>1640.007194</td>\n",
       "      <td>1671.862359</td>\n",
       "      <td>1710.782658</td>\n",
       "    </tr>\n",
       "    <tr>\n",
       "      <th>min</th>\n",
       "      <td>4.000000</td>\n",
       "      <td>2501.000000</td>\n",
       "      <td>511.000000</td>\n",
       "      <td>-1796.000000</td>\n",
       "      <td>-3161.000000</td>\n",
       "      <td>-3225.000000</td>\n",
       "      <td>-1582.000000</td>\n",
       "      <td>-3396.000000</td>\n",
       "    </tr>\n",
       "    <tr>\n",
       "      <th>25%</th>\n",
       "      <td>74.000000</td>\n",
       "      <td>2562.000000</td>\n",
       "      <td>684.000000</td>\n",
       "      <td>0.000000</td>\n",
       "      <td>0.000000</td>\n",
       "      <td>0.000000</td>\n",
       "      <td>0.000000</td>\n",
       "      <td>0.000000</td>\n",
       "    </tr>\n",
       "    <tr>\n",
       "      <th>50%</th>\n",
       "      <td>136.000000</td>\n",
       "      <td>2630.000000</td>\n",
       "      <td>5142.000000</td>\n",
       "      <td>0.090000</td>\n",
       "      <td>0.080000</td>\n",
       "      <td>0.080000</td>\n",
       "      <td>0.100000</td>\n",
       "      <td>0.070000</td>\n",
       "    </tr>\n",
       "    <tr>\n",
       "      <th>75%</th>\n",
       "      <td>195.000000</td>\n",
       "      <td>2775.000000</td>\n",
       "      <td>5511.000000</td>\n",
       "      <td>8.340000</td>\n",
       "      <td>8.460000</td>\n",
       "      <td>8.430000</td>\n",
       "      <td>9.000000</td>\n",
       "      <td>9.000000</td>\n",
       "    </tr>\n",
       "    <tr>\n",
       "      <th>max</th>\n",
       "      <td>276.000000</td>\n",
       "      <td>2961.000000</td>\n",
       "      <td>5911.000000</td>\n",
       "      <td>176405.000000</td>\n",
       "      <td>181137.000000</td>\n",
       "      <td>185960.000000</td>\n",
       "      <td>190873.000000</td>\n",
       "      <td>195875.000000</td>\n",
       "    </tr>\n",
       "  </tbody>\n",
       "</table>\n",
       "</div>"
      ],
      "text/plain": [
       "          Area Code     Item Code  Element Code          Y2014          Y2015  \\\n",
       "count  60943.000000  60943.000000  60943.000000   59354.000000   59395.000000   \n",
       "mean     134.265576   2687.176706   3814.856456     134.196282     135.235966   \n",
       "std       72.605709    146.055739   2212.007033    1567.663696    1603.403984   \n",
       "min        4.000000   2501.000000    511.000000   -1796.000000   -3161.000000   \n",
       "25%       74.000000   2562.000000    684.000000       0.000000       0.000000   \n",
       "50%      136.000000   2630.000000   5142.000000       0.090000       0.080000   \n",
       "75%      195.000000   2775.000000   5511.000000       8.340000       8.460000   \n",
       "max      276.000000   2961.000000   5911.000000  176405.000000  181137.000000   \n",
       "\n",
       "               Y2016          Y2017          Y2018  \n",
       "count   59408.000000   59437.000000   59507.000000  \n",
       "mean      136.555222     140.917765     143.758381  \n",
       "std      1640.007194    1671.862359    1710.782658  \n",
       "min     -3225.000000   -1582.000000   -3396.000000  \n",
       "25%         0.000000       0.000000       0.000000  \n",
       "50%         0.080000       0.100000       0.070000  \n",
       "75%         8.430000       9.000000       9.000000  \n",
       "max    185960.000000  190873.000000  195875.000000  "
      ]
     },
     "execution_count": 4,
     "metadata": {},
     "output_type": "execute_result"
    }
   ],
   "source": [
    "food.describe()"
   ]
  },
  {
   "cell_type": "code",
   "execution_count": 5,
   "id": "229fd84c",
   "metadata": {
    "execution": {
     "iopub.execute_input": "2022-08-02T02:57:23.719239Z",
     "iopub.status.busy": "2022-08-02T02:57:23.718864Z",
     "iopub.status.idle": "2022-08-02T02:57:23.745843Z",
     "shell.execute_reply": "2022-08-02T02:57:23.744765Z"
    },
    "papermill": {
     "duration": 0.036386,
     "end_time": "2022-08-02T02:57:23.748972",
     "exception": false,
     "start_time": "2022-08-02T02:57:23.712586",
     "status": "completed"
    },
    "tags": []
   },
   "outputs": [
    {
     "name": "stdout",
     "output_type": "stream",
     "text": [
      "<class 'pandas.core.frame.DataFrame'>\n",
      "RangeIndex: 60943 entries, 0 to 60942\n",
      "Data columns (total 12 columns):\n",
      " #   Column        Non-Null Count  Dtype  \n",
      "---  ------        --------------  -----  \n",
      " 0   Area Code     60943 non-null  int64  \n",
      " 1   Area          60943 non-null  object \n",
      " 2   Item Code     60943 non-null  int64  \n",
      " 3   Item          60943 non-null  object \n",
      " 4   Element Code  60943 non-null  int64  \n",
      " 5   Element       60943 non-null  object \n",
      " 6   Unit          60943 non-null  object \n",
      " 7   Y2014         59354 non-null  float64\n",
      " 8   Y2015         59395 non-null  float64\n",
      " 9   Y2016         59408 non-null  float64\n",
      " 10  Y2017         59437 non-null  float64\n",
      " 11  Y2018         59507 non-null  float64\n",
      "dtypes: float64(5), int64(3), object(4)\n",
      "memory usage: 5.6+ MB\n"
     ]
    }
   ],
   "source": [
    "food.info()"
   ]
  },
  {
   "cell_type": "code",
   "execution_count": 6,
   "id": "311d23d0",
   "metadata": {
    "execution": {
     "iopub.execute_input": "2022-08-02T02:57:23.761102Z",
     "iopub.status.busy": "2022-08-02T02:57:23.760742Z",
     "iopub.status.idle": "2022-08-02T02:57:23.767001Z",
     "shell.execute_reply": "2022-08-02T02:57:23.765992Z"
    },
    "papermill": {
     "duration": 0.015073,
     "end_time": "2022-08-02T02:57:23.769270",
     "exception": false,
     "start_time": "2022-08-02T02:57:23.754197",
     "status": "completed"
    },
    "tags": []
   },
   "outputs": [
    {
     "data": {
      "text/plain": [
       "(60943, 12)"
      ]
     },
     "execution_count": 6,
     "metadata": {},
     "output_type": "execute_result"
    }
   ],
   "source": [
    "food.shape"
   ]
  },
  {
   "cell_type": "markdown",
   "id": "63fe97bf",
   "metadata": {
    "papermill": {
     "duration": 0.004948,
     "end_time": "2022-08-02T02:57:23.779533",
     "exception": false,
     "start_time": "2022-08-02T02:57:23.774585",
     "status": "completed"
    },
    "tags": []
   },
   "source": [
    "**Missing Values in 2016**"
   ]
  },
  {
   "cell_type": "code",
   "execution_count": 7,
   "id": "935af827",
   "metadata": {
    "execution": {
     "iopub.execute_input": "2022-08-02T02:57:23.791890Z",
     "iopub.status.busy": "2022-08-02T02:57:23.791473Z",
     "iopub.status.idle": "2022-08-02T02:57:23.798899Z",
     "shell.execute_reply": "2022-08-02T02:57:23.797912Z"
    },
    "papermill": {
     "duration": 0.016069,
     "end_time": "2022-08-02T02:57:23.800938",
     "exception": false,
     "start_time": "2022-08-02T02:57:23.784869",
     "status": "completed"
    },
    "tags": []
   },
   "outputs": [
    {
     "data": {
      "text/plain": [
       "1535"
      ]
     },
     "execution_count": 7,
     "metadata": {},
     "output_type": "execute_result"
    }
   ],
   "source": [
    "missing = food.Y2016.isnull().sum()\n",
    "missing"
   ]
  },
  {
   "cell_type": "markdown",
   "id": "a741e4a1",
   "metadata": {
    "papermill": {
     "duration": 0.004872,
     "end_time": "2022-08-02T02:57:23.810999",
     "exception": false,
     "start_time": "2022-08-02T02:57:23.806127",
     "status": "completed"
    },
    "tags": []
   },
   "source": [
    "%"
   ]
  },
  {
   "cell_type": "markdown",
   "id": "ac693f8a",
   "metadata": {
    "papermill": {
     "duration": 0.005104,
     "end_time": "2022-08-02T02:57:23.821109",
     "exception": false,
     "start_time": "2022-08-02T02:57:23.816005",
     "status": "completed"
    },
    "tags": []
   },
   "source": [
    "**Unique countries**"
   ]
  },
  {
   "cell_type": "code",
   "execution_count": 8,
   "id": "a3098ea8",
   "metadata": {
    "execution": {
     "iopub.execute_input": "2022-08-02T02:57:23.833022Z",
     "iopub.status.busy": "2022-08-02T02:57:23.832590Z",
     "iopub.status.idle": "2022-08-02T02:57:23.844027Z",
     "shell.execute_reply": "2022-08-02T02:57:23.842852Z"
    },
    "papermill": {
     "duration": 0.02018,
     "end_time": "2022-08-02T02:57:23.846295",
     "exception": false,
     "start_time": "2022-08-02T02:57:23.826115",
     "status": "completed"
    },
    "tags": []
   },
   "outputs": [
    {
     "data": {
      "text/plain": [
       "49"
      ]
     },
     "execution_count": 8,
     "metadata": {},
     "output_type": "execute_result"
    }
   ],
   "source": [
    "food.Area.nunique()"
   ]
  },
  {
   "cell_type": "markdown",
   "id": "c60660e9",
   "metadata": {
    "papermill": {
     "duration": 0.005033,
     "end_time": "2022-08-02T02:57:23.856768",
     "exception": false,
     "start_time": "2022-08-02T02:57:23.851735",
     "status": "completed"
    },
    "tags": []
   },
   "source": [
    "**Import quantity in Algeria in 2018**"
   ]
  },
  {
   "cell_type": "code",
   "execution_count": 9,
   "id": "ccdf9b30",
   "metadata": {
    "execution": {
     "iopub.execute_input": "2022-08-02T02:57:23.868936Z",
     "iopub.status.busy": "2022-08-02T02:57:23.868511Z",
     "iopub.status.idle": "2022-08-02T02:57:23.880816Z",
     "shell.execute_reply": "2022-08-02T02:57:23.879695Z"
    },
    "papermill": {
     "duration": 0.021396,
     "end_time": "2022-08-02T02:57:23.883337",
     "exception": false,
     "start_time": "2022-08-02T02:57:23.861941",
     "status": "completed"
    },
    "tags": []
   },
   "outputs": [
    {
     "data": {
      "text/plain": [
       "array(['Population', 'Grand Total', 'Vegetal Products', 'Animal Products',\n",
       "       'Cereals - Excluding Beer', 'Wheat and products',\n",
       "       'Rice and products', 'Barley and products', 'Maize and products',\n",
       "       'Rye and products', 'Oats', 'Millet and products',\n",
       "       'Sorghum and products', 'Cereals, Other', 'Starchy Roots',\n",
       "       'Cassava and products', 'Potatoes and products', 'Sweet potatoes',\n",
       "       'Yams', 'Roots, Other', 'Sugar Crops', 'Sugar cane', 'Sugar beet',\n",
       "       'Sugar & Sweeteners', 'Sugar (Raw Equivalent)',\n",
       "       'Sweeteners, Other', 'Honey', 'Pulses', 'Beans', 'Peas',\n",
       "       'Pulses, Other and products', 'Treenuts', 'Nuts and products',\n",
       "       'Oilcrops', 'Soyabeans', 'Groundnuts (Shelled Eq)',\n",
       "       'Sunflower seed', 'Rape and Mustardseed', 'Cottonseed',\n",
       "       'Coconuts - Incl Copra', 'Sesame seed',\n",
       "       'Olives (including preserved)', 'Oilcrops, Other',\n",
       "       'Vegetable Oils', 'Soyabean Oil', 'Groundnut Oil',\n",
       "       'Sunflowerseed Oil', 'Rape and Mustard Oil', 'Cottonseed Oil',\n",
       "       'Palmkernel Oil', 'Palm Oil', 'Coconut Oil', 'Sesameseed Oil',\n",
       "       'Olive Oil', 'Maize Germ Oil', 'Oilcrops Oil, Other', 'Vegetables',\n",
       "       'Tomatoes and products', 'Onions', 'Vegetables, Other',\n",
       "       'Fruits - Excluding Wine', 'Oranges, Mandarines',\n",
       "       'Lemons, Limes and products', 'Grapefruit and products',\n",
       "       'Citrus, Other', 'Bananas', 'Plantains', 'Apples and products',\n",
       "       'Pineapples and products', 'Dates',\n",
       "       'Grapes and products (excl wine)', 'Fruits, Other', 'Stimulants',\n",
       "       'Coffee and products', 'Cocoa Beans and products',\n",
       "       'Tea (including mate)', 'Spices', 'Pepper', 'Pimento', 'Cloves',\n",
       "       'Spices, Other', 'Alcoholic Beverages', 'Wine', 'Beer',\n",
       "       'Beverages, Fermented', 'Beverages, Alcoholic',\n",
       "       'Alcohol, Non-Food', 'Meat', 'Bovine Meat', 'Mutton & Goat Meat',\n",
       "       'Pigmeat', 'Poultry Meat', 'Meat, Other', 'Offals',\n",
       "       'Offals, Edible', 'Animal fats', 'Butter, Ghee', 'Cream',\n",
       "       'Fats, Animals, Raw', 'Fish, Body Oil', 'Fish, Liver Oil', 'Eggs',\n",
       "       'Milk - Excluding Butter', 'Fish, Seafood', 'Freshwater Fish',\n",
       "       'Demersal Fish', 'Pelagic Fish', 'Marine Fish, Other',\n",
       "       'Crustaceans', 'Cephalopods', 'Molluscs, Other',\n",
       "       'Aquatic Products, Other', 'Aquatic Animals, Others',\n",
       "       'Aquatic Plants', 'Miscellaneous', 'Infant food',\n",
       "       'Sugar non-centrifugal', 'Palm kernels', 'Ricebran Oil'],\n",
       "      dtype=object)"
      ]
     },
     "execution_count": 9,
     "metadata": {},
     "output_type": "execute_result"
    }
   ],
   "source": [
    "food.Item.unique()"
   ]
  },
  {
   "cell_type": "code",
   "execution_count": 10,
   "id": "4fcfbdcd",
   "metadata": {
    "execution": {
     "iopub.execute_input": "2022-08-02T02:57:23.896422Z",
     "iopub.status.busy": "2022-08-02T02:57:23.895692Z",
     "iopub.status.idle": "2022-08-02T02:57:23.934938Z",
     "shell.execute_reply": "2022-08-02T02:57:23.933663Z"
    },
    "papermill": {
     "duration": 0.048547,
     "end_time": "2022-08-02T02:57:23.937576",
     "exception": false,
     "start_time": "2022-08-02T02:57:23.889029",
     "status": "completed"
    },
    "tags": []
   },
   "outputs": [
    {
     "data": {
      "text/plain": [
       "1721"
      ]
     },
     "execution_count": 10,
     "metadata": {},
     "output_type": "execute_result"
    }
   ],
   "source": [
    "food.Item.str.contains('Animal').sum()"
   ]
  },
  {
   "cell_type": "markdown",
   "id": "a93ad9ed",
   "metadata": {
    "papermill": {
     "duration": 0.005834,
     "end_time": "2022-08-02T02:57:23.949267",
     "exception": false,
     "start_time": "2022-08-02T02:57:23.943433",
     "status": "completed"
    },
    "tags": []
   },
   "source": [
    "**Animal fat**"
   ]
  }
 ],
 "metadata": {
  "kernelspec": {
   "display_name": "Python 3",
   "language": "python",
   "name": "python3"
  },
  "language_info": {
   "codemirror_mode": {
    "name": "ipython",
    "version": 3
   },
   "file_extension": ".py",
   "mimetype": "text/x-python",
   "name": "python",
   "nbconvert_exporter": "python",
   "pygments_lexer": "ipython3",
   "version": "3.7.12"
  },
  "papermill": {
   "default_parameters": {},
   "duration": 10.711588,
   "end_time": "2022-08-02T02:57:24.575888",
   "environment_variables": {},
   "exception": null,
   "input_path": "__notebook__.ipynb",
   "output_path": "__notebook__.ipynb",
   "parameters": {},
   "start_time": "2022-08-02T02:57:13.864300",
   "version": "2.3.4"
  }
 },
 "nbformat": 4,
 "nbformat_minor": 5
}
